{
  "nbformat": 4,
  "nbformat_minor": 0,
  "metadata": {
    "colab": {
      "provenance": []
    },
    "kernelspec": {
      "name": "python3",
      "display_name": "Python 3"
    },
    "language_info": {
      "name": "python"
    }
  },
  "cells": [
    {
      "cell_type": "code",
      "execution_count": 2,
      "metadata": {
        "colab": {
          "base_uri": "https://localhost:8080/"
        },
        "id": "4ZSSrlF74nrj",
        "outputId": "b270439e-566c-442e-e848-4835b9cf145e"
      },
      "outputs": [
        {
          "output_type": "stream",
          "name": "stdout",
          "text": [
            "Apakah Anda ingin menambah barang ke dalam daftar belanjaan? (y/n): y\n",
            "Masukkan nama barang yang ingin dibeli: Sampo\n",
            "Masukkan jumlah barang yang ingin dibeli: 2\n",
            "Masukkan harga barang: 10000\n",
            "Barang Sampo telah ditambahkan ke dalam daftar belanjaan.\n",
            "Apakah Anda ingin menambah barang lagi? (y/n): n\n",
            "\n",
            "Barang belanjaan saat ini:\n",
            "{'nama': 'Sampo', 'jumlah': 2, 'harga': 10000.0}\n",
            "Apakah ada barang yang ingin dihapus? (y/n): n\n",
            "Apakah ada barang yang ingin diubah datanya? (y/n): n\n",
            "\n",
            "Barang belanjaan setelah pengelolaan:\n",
            "{'nama': 'Sampo', 'jumlah': 2, 'harga': 10000.0}\n",
            "\n",
            "Informasi lain:\n",
            "Total barang: 2\n",
            "Total harga barang: 20000.0\n"
          ]
        }
      ],
      "source": [
        "from functools import reduce\n",
        "\n",
        "def tambah_barang(belanjaan):\n",
        "    nama = input(\"Masukkan nama barang yang ingin dibeli: \")\n",
        "    jumlah = int(input(\"Masukkan jumlah barang yang ingin dibeli: \"))\n",
        "    harga = float(input(\"Masukkan harga barang: \"))\n",
        "\n",
        "    belanjaan.append({'nama': nama, 'jumlah': jumlah, 'harga': harga})\n",
        "    print(\"Barang\", nama, \"telah ditambahkan ke dalam daftar belanjaan.\")\n",
        "\n",
        "def hapus_barang(belanjaan, nama_barang):\n",
        "    belanjaan[:] = [barang for barang in belanjaan if barang['nama'] != nama_barang]\n",
        "    print(\"Barang\", nama_barang, \"telah dihapus dari daftar belanjaan.\")\n",
        "\n",
        "def ubah_barang(belanjaan, nama_barang):\n",
        "    for barang in belanjaan:\n",
        "        if barang['nama'] == nama_barang:\n",
        "            print(\"Data barang saat ini:\", barang)\n",
        "            barang['nama'] = input(\"Masukkan nama baru barang: \")\n",
        "            barang['jumlah'] = int(input(\"Masukkan jumlah baru barang: \"))\n",
        "            barang['harga'] = float(input(\"Masukkan harga baru barang: \"))\n",
        "            print(\"Data barang berhasil diubah.\")\n",
        "            return\n",
        "    print(\"Barang dengan nama\", nama_barang, \"tidak ditemukan.\")\n",
        "\n",
        "def hitung_total(belanjaan, fungsi):\n",
        "    return fungsi(belanjaan)\n",
        "\n",
        "def hitung_total_harga(belanjaan, fungsi):\n",
        "    return fungsi(belanjaan)\n",
        "\n",
        "def total_barang(belanjaan):\n",
        "    return reduce(lambda total, barang: total + barang['jumlah'], belanjaan, 0)\n",
        "\n",
        "def total_harga_barang(belanjaan):\n",
        "    return reduce(lambda total, barang: total + (barang['jumlah'] * barang['harga']), belanjaan, 0)\n",
        "\n",
        "def kelola_belanjaan(belanjaan):\n",
        "    tambah = input(\"Apakah Anda ingin menambah barang ke dalam daftar belanjaan? (y/n): \")\n",
        "    while tambah.lower() == 'y':\n",
        "        tambah_barang(belanjaan)\n",
        "        tambah = input(\"Apakah Anda ingin menambah barang lagi? (y/n): \")\n",
        "\n",
        "    print(\"\\nBarang belanjaan saat ini:\")\n",
        "    for barang in belanjaan:\n",
        "        print(barang)\n",
        "\n",
        "    hapus = input(\"Apakah ada barang yang ingin dihapus? (y/n): \")\n",
        "    while hapus.lower() == 'y':\n",
        "        nama_barang = input(\"Masukkan nama barang yang ingin dihapus: \")\n",
        "        hapus_barang(belanjaan, nama_barang)\n",
        "        hapus = input(\"Apakah ada barang lain yang ingin dihapus? (y/n): \")\n",
        "\n",
        "    ubah = input(\"Apakah ada barang yang ingin diubah datanya? (y/n): \")\n",
        "    while ubah.lower() == 'y':\n",
        "        nama_barang = input(\"Masukkan nama barang yang ingin diubah: \")\n",
        "        ubah_barang(belanjaan, nama_barang)\n",
        "        ubah = input(\"Apakah ada barang lain yang ingin diubah datanya? (y/n): \")\n",
        "\n",
        "    print(\"\\nBarang belanjaan setelah pengelolaan:\")\n",
        "    for barang in belanjaan:\n",
        "        print(barang)\n",
        "\n",
        "    total_barang_hof = hitung_total(belanjaan, total_barang)\n",
        "    total_harga_barang_hof = hitung_total_harga(belanjaan, total_harga_barang)\n",
        "\n",
        "    print(\"\\nInformasi lain:\")\n",
        "    print(\"Total barang:\", total_barang_hof)\n",
        "    print(\"Total harga barang:\", total_harga_barang_hof)\n",
        "\n",
        "barang_belanjaan = []\n",
        "kelola_belanjaan(barang_belanjaan)"
      ]
    }
  ]
}