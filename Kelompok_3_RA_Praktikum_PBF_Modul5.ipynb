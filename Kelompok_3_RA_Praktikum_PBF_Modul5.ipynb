{
  "nbformat": 4,
  "nbformat_minor": 0,
  "metadata": {
    "colab": {
      "provenance": []
    },
    "kernelspec": {
      "name": "python3",
      "display_name": "Python 3"
    },
    "language_info": {
      "name": "python"
    }
  },
  "cells": [
    {
      "cell_type": "code",
      "source": [
        "def decorator(func):\n",
        "    def wrapper(*args, **kwargs):\n",
        "        print(f\"Memanggil fungsi {func.__name__} dengan argumen {args}\")\n",
        "        return func(*args, **kwargs)\n",
        "    return wrapper\n",
        "\n",
        "def kalku(operation):\n",
        "    def tambah(x, y):\n",
        "        return x + y\n",
        "\n",
        "    def kurang(x, y):\n",
        "        return x - y\n",
        "\n",
        "    def kali(x, y):\n",
        "        return x * y\n",
        "\n",
        "    def bagi(x, y):\n",
        "        return x / y\n",
        "\n",
        "    operations = {\n",
        "        \"tambah\": tambah,\n",
        "        \"kurang\": kurang,\n",
        "        \"kali\": kali,\n",
        "        \"bagi\": bagi\n",
        "    }\n",
        "\n",
        "    @decorator\n",
        "    def calculator(x, y):\n",
        "        return operations[operation](x, y)\n",
        "\n",
        "    return calculator\n",
        "\n",
        "#contoh penggunaannya\n",
        "operation = \"tambah\"\n",
        "calculator = kalku(operation)\n",
        "result = calculator(5, 3)\n",
        "print(\"Result:\", result)"
      ],
      "metadata": {
        "colab": {
          "base_uri": "https://localhost:8080/"
        },
        "id": "WC5fafS7gbaZ",
        "outputId": "75e8703a-918b-4f4d-d05d-f462d597719f"
      },
      "execution_count": 15,
      "outputs": [
        {
          "output_type": "stream",
          "name": "stdout",
          "text": [
            "Memanggil fungsi calculator dengan argumen (5, 3)\n",
            "Result: 8\n"
          ]
        }
      ]
    }
  ]
}